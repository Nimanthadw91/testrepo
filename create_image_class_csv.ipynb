{
  "nbformat": 4,
  "nbformat_minor": 0,
  "metadata": {
    "colab": {
      "name": "create_image_class_csv.ipynb",
      "provenance": [],
      "collapsed_sections": []
    },
    "kernelspec": {
      "name": "python3",
      "display_name": "Python 3"
    },
    "language_info": {
      "name": "python"
    },
    "accelerator": "GPU"
  },
  "cells": [
    {
      "cell_type": "code",
      "metadata": {
        "id": "Qau8qRJ_ekKl"
      },
      "source": [
        "import os\n",
        "import pandas as pd"
      ],
      "execution_count": 34,
      "outputs": []
    },
    {
      "cell_type": "code",
      "metadata": {
        "id": "Rls0LJBZr7oN",
        "colab": {
          "base_uri": "https://localhost:8080/"
        },
        "outputId": "edea3f0d-a317-434f-884b-8b9cd53c9140"
      },
      "source": [
        "from google.colab import drive\n",
        "drive.mount('/content/drive')"
      ],
      "execution_count": 35,
      "outputs": [
        {
          "output_type": "stream",
          "name": "stdout",
          "text": [
            "Drive already mounted at /content/drive; to attempt to forcibly remount, call drive.mount(\"/content/drive\", force_remount=True).\n"
          ]
        }
      ]
    },
    {
      "cell_type": "code",
      "metadata": {
        "id": "tgLZFQvor7_Q"
      },
      "source": [
        "train_path = '/content/drive/MyDrive/UPDATED SPLIT/Front/train'\n",
        "valid_path = '/content/drive/MyDrive/UPDATED SPLIT/Front/val'\n",
        "Test_path = '/content/drive/MyDrive/UPDATED SPLIT/Front/test'"
      ],
      "execution_count": 36,
      "outputs": []
    },
    {
      "cell_type": "markdown",
      "source": [
        "# Train"
      ],
      "metadata": {
        "id": "qAhAP47MBVKg"
      }
    },
    {
      "cell_type": "code",
      "metadata": {
        "id": "bFRmPFS65Qei"
      },
      "source": [
        "import os\n",
        "import pandas as pd\n",
        "\n",
        "BASE_DIR = '/content/drive/MyDrive/UPDATED SPLIT/Front/train/'\n",
        "anger = BASE_DIR+'ANGER/'\n",
        "disgust = BASE_DIR+'DISGUST/'\n",
        "fear = BASE_DIR+'FEAR/'\n",
        "joy = BASE_DIR+'JOY/'\n",
        "sadness = BASE_DIR+'SADNESS/'\n",
        "surprise = BASE_DIR+'SURPRISE/'\n",
        "\n",
        "\n",
        "ang = sorted(os.listdir(anger))\n",
        "dis = sorted(os.listdir(disgust))\n",
        "fe = sorted(os.listdir(fear))\n",
        "jo = sorted(os.listdir(joy))\n",
        "sad = sorted(os.listdir(sadness))\n",
        "sur = sorted(os.listdir(surprise))\n",
        "\n",
        "df1 = pd.DataFrame()\n",
        "df1['images']=[str(x) for x in ang]\n",
        "df1['ANGER']=[1 for x in ang]\n",
        "df1['DISGUST']=[0 for x in ang]\n",
        "df1['FEAR']=[0 for x in ang]\n",
        "df1['JOY']=[0 for x in ang]\n",
        "df1['SADNESS']=[0 for x in ang]\n",
        "df1['SURPRISE']=[0 for x in ang ]\n",
        "\n",
        "df2 = pd.DataFrame()\n",
        "df2['images']=[str(x) for x in dis]\n",
        "df2['ANGER']=[0 for x in dis]\n",
        "df2['DISGUST']=[1 for x in dis]\n",
        "df2['FEAR']=[0 for x in dis]\n",
        "df2['JOY']=[0 for x in dis]\n",
        "df2['SADNESS']=[0 for x in dis]\n",
        "df2['SURPRISE']=[0 for x in dis ]\n",
        "\n",
        "df3 = pd.DataFrame()\n",
        "df3['images']=[str(x) for x in fe]\n",
        "df3['ANGER']=[0 for x in fe]\n",
        "df3['DISGUST']=[0 for x in fe]\n",
        "df3['FEAR']=[1 for x in fe]\n",
        "df3['JOY']=[0 for x in fe]\n",
        "df3['SADNESS']=[0 for x in fe]\n",
        "df3['SURPRISE']=[0 for x in fe ]\n",
        "\n",
        "df4 = pd.DataFrame()\n",
        "df4['images']=[str(x) for x in jo]\n",
        "df4['ANGER']=[0 for x in jo]\n",
        "df4['DISGUST']=[0 for x in jo]\n",
        "df4['FEAR']=[0 for x in jo]\n",
        "df4['JOY']=[1 for x in jo]\n",
        "df4['SADNESS']=[0 for x in jo]\n",
        "df4['SURPRISE']=[0 for x in jo ]\n",
        "\n",
        "df5 = pd.DataFrame()\n",
        "df5['images']=[str(x) for x in sad]\n",
        "df5['ANGER']=[0 for x in sad]\n",
        "df5['DISGUST']=[0 for x in sad]\n",
        "df5['FEAR']=[0 for x in sad]\n",
        "df5['JOY']=[0 for x in sad]\n",
        "df5['SADNESS']=[1 for x in sad]\n",
        "df5['SURPRISE']=[0 for x in sad ]\n",
        "\n",
        "df6 = pd.DataFrame()\n",
        "df6['images']=[str(x) for x in sur]\n",
        "df6['ANGER']=[0 for x in sur]\n",
        "df6['DISGUST']=[0 for x in sur]\n",
        "df6['FEAR']=[0 for x in sur]\n",
        "df6['JOY']=[0 for x in sur]\n",
        "df6['SADNESS']=[0 for x in sur]\n",
        "df6['SURPRISE']=[1 for x in sur ]\n"
      ],
      "execution_count": 37,
      "outputs": []
    },
    {
      "cell_type": "code",
      "metadata": {
        "id": "tP8XWO-adziQ"
      },
      "source": [
        "df_tr = pd.concat([df1, df2, df3, df4, df5, df6])"
      ],
      "execution_count": 38,
      "outputs": []
    },
    {
      "cell_type": "code",
      "metadata": {
        "id": "nRE8P4yceGAM"
      },
      "source": [
        "df_tr.to_csv('/content/drive/MyDrive/UPDATED SPLIT/Front/train/train_class.csv')"
      ],
      "execution_count": 41,
      "outputs": []
    },
    {
      "cell_type": "markdown",
      "source": [
        "# Validation"
      ],
      "metadata": {
        "id": "CNWSsjLSBhc5"
      }
    },
    {
      "cell_type": "code",
      "source": [
        "BASE_DIR = '/content/drive/MyDrive/UPDATED SPLIT/Front/val/'\n",
        "anger = BASE_DIR+'ANGER/'\n",
        "disgust = BASE_DIR+'DISGUST/'\n",
        "fear = BASE_DIR+'FEAR/'\n",
        "joy = BASE_DIR+'JOY/'\n",
        "sadness = BASE_DIR+'SADNESS/'\n",
        "surprise = BASE_DIR+'SURPRISE/'\n",
        "\n",
        "\n",
        "ang = sorted(os.listdir(anger))\n",
        "dis = sorted(os.listdir(disgust))\n",
        "fe = sorted(os.listdir(fear))\n",
        "jo = sorted(os.listdir(joy))\n",
        "sad = sorted(os.listdir(sadness))\n",
        "sur = sorted(os.listdir(surprise))\n",
        "\n",
        "df1 = pd.DataFrame()\n",
        "df1['images']=[str(x) for x in ang]\n",
        "df1['ANGER']=[1 for x in ang]\n",
        "df1['DISGUST']=[0 for x in ang]\n",
        "df1['FEAR']=[0 for x in ang]\n",
        "df1['JOY']=[0 for x in ang]\n",
        "df1['SADNESS']=[0 for x in ang]\n",
        "df1['SURPRISE']=[0 for x in ang ]\n",
        "\n",
        "df2 = pd.DataFrame()\n",
        "df2['images']=[str(x) for x in dis]\n",
        "df2['ANGER']=[0 for x in dis]\n",
        "df2['DISGUST']=[1 for x in dis]\n",
        "df2['FEAR']=[0 for x in dis]\n",
        "df2['JOY']=[0 for x in dis]\n",
        "df2['SADNESS']=[0 for x in dis]\n",
        "df2['SURPRISE']=[0 for x in dis ]\n",
        "\n",
        "df3 = pd.DataFrame()\n",
        "df3['images']=[str(x) for x in fe]\n",
        "df3['ANGER']=[0 for x in fe]\n",
        "df3['DISGUST']=[0 for x in fe]\n",
        "df3['FEAR']=[1 for x in fe]\n",
        "df3['JOY']=[0 for x in fe]\n",
        "df3['SADNESS']=[0 for x in fe]\n",
        "df3['SURPRISE']=[0 for x in fe ]\n",
        "\n",
        "df4 = pd.DataFrame()\n",
        "df4['images']=[str(x) for x in jo]\n",
        "df4['ANGER']=[0 for x in jo]\n",
        "df4['DISGUST']=[0 for x in jo]\n",
        "df4['FEAR']=[0 for x in jo]\n",
        "df4['JOY']=[1 for x in jo]\n",
        "df4['SADNESS']=[0 for x in jo]\n",
        "df4['SURPRISE']=[0 for x in jo ]\n",
        "\n",
        "df5 = pd.DataFrame()\n",
        "df5['images']=[str(x) for x in sad]\n",
        "df5['ANGER']=[0 for x in sad]\n",
        "df5['DISGUST']=[0 for x in sad]\n",
        "df5['FEAR']=[0 for x in sad]\n",
        "df5['JOY']=[0 for x in sad]\n",
        "df5['SADNESS']=[1 for x in sad]\n",
        "df5['SURPRISE']=[0 for x in sad ]\n",
        "\n",
        "df6 = pd.DataFrame()\n",
        "df6['images']=[str(x) for x in sur]\n",
        "df6['ANGER']=[0 for x in sur]\n",
        "df6['DISGUST']=[0 for x in sur]\n",
        "df6['FEAR']=[0 for x in sur]\n",
        "df6['JOY']=[0 for x in sur]\n",
        "df6['SADNESS']=[0 for x in sur]\n",
        "df6['SURPRISE']=[1 for x in sur ]"
      ],
      "metadata": {
        "id": "CrFVd-9JBtpI"
      },
      "execution_count": 43,
      "outputs": []
    },
    {
      "cell_type": "code",
      "metadata": {
        "id": "SqJddolHB4zN"
      },
      "source": [
        "df_val = pd.concat([df1, df2, df3, df4, df5, df6])"
      ],
      "execution_count": 44,
      "outputs": []
    },
    {
      "cell_type": "code",
      "metadata": {
        "id": "ccb3_jljB4zN"
      },
      "source": [
        "df_val.to_csv('/content/drive/MyDrive/UPDATED SPLIT/Front/val/val_class.csv')"
      ],
      "execution_count": 45,
      "outputs": []
    },
    {
      "cell_type": "markdown",
      "source": [
        "# Test"
      ],
      "metadata": {
        "id": "Pxxihtu6Bu8p"
      }
    },
    {
      "cell_type": "code",
      "source": [
        "BASE_DIR = '/content/drive/MyDrive/UPDATED SPLIT/Front/test/'\n",
        "anger = BASE_DIR+'ANGER/'\n",
        "disgust = BASE_DIR+'DISGUST/'\n",
        "fear = BASE_DIR+'FEAR/'\n",
        "joy = BASE_DIR+'JOY/'\n",
        "sadness = BASE_DIR+'SADNESS/'\n",
        "surprise = BASE_DIR+'SURPRISE/'\n",
        "\n",
        "\n",
        "ang = sorted(os.listdir(anger))\n",
        "dis = sorted(os.listdir(disgust))\n",
        "fe = sorted(os.listdir(fear))\n",
        "jo = sorted(os.listdir(joy))\n",
        "sad = sorted(os.listdir(sadness))\n",
        "sur = sorted(os.listdir(surprise))\n",
        "\n",
        "df1 = pd.DataFrame()\n",
        "df1['images']=[str(x) for x in ang]\n",
        "df1['ANGER']=[1 for x in ang]\n",
        "df1['DISGUST']=[0 for x in ang]\n",
        "df1['FEAR']=[0 for x in ang]\n",
        "df1['JOY']=[0 for x in ang]\n",
        "df1['SADNESS']=[0 for x in ang]\n",
        "df1['SURPRISE']=[0 for x in ang ]\n",
        "\n",
        "df2 = pd.DataFrame()\n",
        "df2['images']=[str(x) for x in dis]\n",
        "df2['ANGER']=[0 for x in dis]\n",
        "df2['DISGUST']=[1 for x in dis]\n",
        "df2['FEAR']=[0 for x in dis]\n",
        "df2['JOY']=[0 for x in dis]\n",
        "df2['SADNESS']=[0 for x in dis]\n",
        "df2['SURPRISE']=[0 for x in dis ]\n",
        "\n",
        "df3 = pd.DataFrame()\n",
        "df3['images']=[str(x) for x in fe]\n",
        "df3['ANGER']=[0 for x in fe]\n",
        "df3['DISGUST']=[0 for x in fe]\n",
        "df3['FEAR']=[1 for x in fe]\n",
        "df3['JOY']=[0 for x in fe]\n",
        "df3['SADNESS']=[0 for x in fe]\n",
        "df3['SURPRISE']=[0 for x in fe ]\n",
        "\n",
        "df4 = pd.DataFrame()\n",
        "df4['images']=[str(x) for x in jo]\n",
        "df4['ANGER']=[0 for x in jo]\n",
        "df4['DISGUST']=[0 for x in jo]\n",
        "df4['FEAR']=[0 for x in jo]\n",
        "df4['JOY']=[1 for x in jo]\n",
        "df4['SADNESS']=[0 for x in jo]\n",
        "df4['SURPRISE']=[0 for x in jo ]\n",
        "\n",
        "df5 = pd.DataFrame()\n",
        "df5['images']=[str(x) for x in sad]\n",
        "df5['ANGER']=[0 for x in sad]\n",
        "df5['DISGUST']=[0 for x in sad]\n",
        "df5['FEAR']=[0 for x in sad]\n",
        "df5['JOY']=[0 for x in sad]\n",
        "df5['SADNESS']=[1 for x in sad]\n",
        "df5['SURPRISE']=[0 for x in sad ]\n",
        "\n",
        "df6 = pd.DataFrame()\n",
        "df6['images']=[str(x) for x in sur]\n",
        "df6['ANGER']=[0 for x in sur]\n",
        "df6['DISGUST']=[0 for x in sur]\n",
        "df6['FEAR']=[0 for x in sur]\n",
        "df6['JOY']=[0 for x in sur]\n",
        "df6['SADNESS']=[0 for x in sur]\n",
        "df6['SURPRISE']=[1 for x in sur ]"
      ],
      "metadata": {
        "id": "qoefTxaWByqj"
      },
      "execution_count": 46,
      "outputs": []
    },
    {
      "cell_type": "code",
      "metadata": {
        "id": "mt-MjvFfCPPe"
      },
      "source": [
        "df_te = pd.concat([df1, df2, df3, df4, df5, df6])"
      ],
      "execution_count": 47,
      "outputs": []
    },
    {
      "cell_type": "code",
      "metadata": {
        "id": "_OmJnqjzCPPf"
      },
      "source": [
        "df_te.to_csv('/content/drive/MyDrive/UPDATED SPLIT/Front/test/test_class.csv')"
      ],
      "execution_count": 49,
      "outputs": []
    }
  ]
}